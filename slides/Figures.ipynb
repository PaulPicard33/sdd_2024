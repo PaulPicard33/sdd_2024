{
 "cells": [
  {
   "cell_type": "markdown",
   "id": "714d3723-4cf6-48c3-9dcf-924ecf086d05",
   "metadata": {},
   "source": [
    "# Figures pour le cours sur les bonnes pratiques"
   ]
  },
  {
   "cell_type": "code",
   "execution_count": null,
   "id": "5126acbf-1cd6-4cc5-9daf-2c9816a5bb5f",
   "metadata": {},
   "outputs": [],
   "source": [
    "%matplotlib inline\n",
    "import numpy as np\n",
    "import matplotlib\n",
    "import matplotlib.pyplot as plt"
   ]
  },
  {
   "cell_type": "code",
   "execution_count": null,
   "id": "99fe9d6c-8eab-4fd4-8478-9563902a1fec",
   "metadata": {},
   "outputs": [],
   "source": [
    "%config InlineBackend.figure_formats = ['svg']"
   ]
  },
  {
   "cell_type": "code",
   "execution_count": null,
   "id": "c763916f-dff1-4507-a964-1ca56931d09f",
   "metadata": {},
   "outputs": [],
   "source": [
    "prop_cycle = plt.rcParams['axes.prop_cycle']\n",
    "def_colors = prop_cycle.by_key()['color']"
   ]
  },
  {
   "cell_type": "code",
   "execution_count": null,
   "id": "b0650527-2992-4b27-8d18-bc01c027ac53",
   "metadata": {},
   "outputs": [],
   "source": [
    "for i, col in enumerate(def_colors):\n",
    "    plt.scatter(i, 1, c=col)\n",
    "    plt.scatter(i, 1.02, c=\"#0000aa\")"
   ]
  },
  {
   "cell_type": "markdown",
   "id": "25de1b32-a869-4273-a183-f8d153633b85",
   "metadata": {},
   "source": [
    "## Correction du graphique de TF1"
   ]
  },
  {
   "cell_type": "code",
   "execution_count": null,
   "id": "c9d21ff2-e539-43c8-93a8-30d24f27ab35",
   "metadata": {},
   "outputs": [],
   "source": [
    "intentions = [33, 28, 18, 5, 4, 3, 3, 2, 1.5]\n",
    "partis = [\"RN\", \"NFP\", \"Ensemble !\", \"LR\", \"LR-RN\", \"Reconquête\", \"DG\", \"DD\", \"NPA/LO\"]"
   ]
  },
  {
   "cell_type": "code",
   "execution_count": null,
   "id": "1e1df1c7-1166-46cd-a950-da2df8c29a99",
   "metadata": {},
   "outputs": [],
   "source": [
    "plt.rc('font', **{'family':'sans', 'size': 12})"
   ]
  },
  {
   "cell_type": "code",
   "execution_count": null,
   "id": "5a1ea201-3bf7-4513-9340-67684effadca",
   "metadata": {},
   "outputs": [],
   "source": [
    "couleurs = [\"#000077\", def_colors[6], def_colors[1], def_colors[9], def_colors[0], \"#000077\", def_colors[6], def_colors[9], def_colors[3]]"
   ]
  },
  {
   "cell_type": "code",
   "execution_count": null,
   "id": "dfae2c56-ce56-4bc2-8bab-6009b98c7b75",
   "metadata": {},
   "outputs": [],
   "source": [
    "y_values = np.arange(9, 0, -1)\n",
    "plt.barh(y_values, intentions, color=couleurs)\n",
    "t=plt.yticks(y_values, partis)\n",
    "\n",
    "\n",
    "plt.xlim(0, 40)\n",
    "for (y_val, intention) in zip(y_values, intentions):\n",
    "    plt.text(35, (y_val-0.2), f\"{intention}%\")\n",
    "\n",
    "plt.savefig('figures/jt_tf1_2024-06-17_fixed.pdf', bbox_inches='tight')"
   ]
  },
  {
   "cell_type": "markdown",
   "id": "7b5b4a91-2e69-4154-894a-41696dc7a7fb",
   "metadata": {},
   "source": [
    "## Bar plot"
   ]
  },
  {
   "cell_type": "code",
   "execution_count": null,
   "id": "8760f31a-c99b-4416-8e00-6ee9593604b9",
   "metadata": {},
   "outputs": [],
   "source": [
    "plt.rc('font', **{'family':'sans', 'size': 6})"
   ]
  },
  {
   "cell_type": "code",
   "execution_count": null,
   "id": "28d11a9d-bc91-4d9b-8e11-ab01cfc8bed5",
   "metadata": {},
   "outputs": [],
   "source": [
    "yyy = [0.80, 0.73, 0.69, 0.71]"
   ]
  },
  {
   "cell_type": "code",
   "execution_count": null,
   "id": "db0d9b1d-a5b1-41c7-8538-3552e1dc08b9",
   "metadata": {},
   "outputs": [],
   "source": [
    "plt.bar([1, 2.2, 2.8, 3.5], yyy, width=0.5, \n",
    "        yerr=[0.05, 0.02, 0.02, 0.03], \n",
    "        tick_label=['1', '2', '3', '4'], \n",
    "        color=['#cc0000', '#cc0033', '#cc0066', '#cc0099'],\n",
    "        ecolor=['#cc0000', '#cc0033', '#cc0066', '#cc0099'])\n",
    "        #capsize=9)\n",
    "#plt.xlabel(\"Modèles\")\n",
    "#plt.ylabel(\"Performance\", fontsize=10)\n",
    "plt.ylim(0.65, 0.85)\n",
    "plt.yticks([0.65, 0.71, 0.77, 0.83])\n",
    "plt.savefig('figures/horrible_bar_plot.pdf', bbox_inches='tight')"
   ]
  },
  {
   "cell_type": "code",
   "execution_count": null,
   "id": "cebf7828-44cd-42ac-baee-569c41ec9629",
   "metadata": {},
   "outputs": [],
   "source": [
    "plt.rc('font', **{'family':'sans', 'size': 12})"
   ]
  },
  {
   "cell_type": "code",
   "execution_count": null,
   "id": "1c27bb33-0c6c-4c64-80ef-40215bdbb205",
   "metadata": {},
   "outputs": [],
   "source": [
    "plt.bar([1, 2, 3, 4], yyy, width=0.5,\n",
    "        yerr=[0.05, 0.02, 0.02, 0.03], \n",
    "        tick_label=['SVM (C=0.1)', 'SVM (C=0.01)', 'RF', 'MLP'],\n",
    "        color='None', edgecolor=def_colors[0], \n",
    "        ecolor=def_colors[0], capsize=9)\n",
    "plt.xlabel(\"Modèles\")\n",
    "plt.ylabel(\"AUC-ROC\")\n",
    "plt.title(\"Comparaison des performances sur le jeu de test\", fontsize=12)\n",
    "plt.ylim(0.5, 1.0)\n",
    "plt.savefig('figures/meilleur_bar_plot.pdf', bbox_inches='tight')"
   ]
  },
  {
   "cell_type": "markdown",
   "id": "5c63067a-ce9c-474f-801a-6ee677587f9c",
   "metadata": {},
   "source": [
    "## PCA plot with colors"
   ]
  },
  {
   "cell_type": "code",
   "execution_count": null,
   "id": "f5714cdf-029e-4fd2-942e-47b5deed19e3",
   "metadata": {},
   "outputs": [],
   "source": [
    "plt.rc('font', **{'family':'sans', 'size': 16})"
   ]
  },
  {
   "cell_type": "code",
   "execution_count": null,
   "id": "5618ec28-3ef1-4bdd-9af8-dc3f3544a6a9",
   "metadata": {},
   "outputs": [],
   "source": [
    "import pandas as pd\n",
    "my_data = pd.read_csv('../pc/pc2/data/decathlon.txt', sep=\"\\t\")  # lire les données dans un dataframe"
   ]
  },
  {
   "cell_type": "code",
   "execution_count": null,
   "id": "b7ab04dc-cef7-4830-b7f2-537b26b6c707",
   "metadata": {},
   "outputs": [],
   "source": [
    "X = np.array(my_data.drop(columns=['Points', 'Rank', 'Competition']))\n",
    "print(X.shape)"
   ]
  },
  {
   "cell_type": "code",
   "execution_count": null,
   "id": "8cdc9dc7-3125-49a0-a602-37f4c36e5cb9",
   "metadata": {},
   "outputs": [],
   "source": [
    "from sklearn import preprocessing"
   ]
  },
  {
   "cell_type": "code",
   "execution_count": null,
   "id": "256d97b5-c78a-4d3f-9116-61c921bee892",
   "metadata": {},
   "outputs": [],
   "source": [
    "std_scale = preprocessing.StandardScaler().fit(X)\n",
    "X_scaled = std_scale.transform(X)"
   ]
  },
  {
   "cell_type": "code",
   "execution_count": null,
   "id": "4a7a2a66-9039-47c4-bca3-43d66cf72544",
   "metadata": {},
   "outputs": [],
   "source": [
    "from sklearn import decomposition"
   ]
  },
  {
   "cell_type": "code",
   "execution_count": null,
   "id": "fb2bdaa1-4055-4ea4-aa19-6c6d6ca11b1e",
   "metadata": {},
   "outputs": [],
   "source": [
    "pca = decomposition.PCA(n_components=2)\n",
    "pca.fit(X_scaled)\n",
    "X_projected = pca.transform(X_scaled)\n",
    "print(X_projected.shape)"
   ]
  },
  {
   "cell_type": "code",
   "execution_count": null,
   "id": "5666c6c0-e19f-4d29-b0a3-29dcff27ddff",
   "metadata": {},
   "outputs": [],
   "source": [
    "fig = plt.figure(figsize=(5, 5))\n",
    "\n",
    "plt.scatter(X_projected[:, 0], X_projected[:, 1], c=my_data['Rank'], cmap='cividis')\n",
    "\n",
    "plt.xlabel(\"PC 1\")\n",
    "plt.ylabel(\"PC 2\")\n",
    "plt.colorbar(label='classement')\n",
    "\n",
    "ax = fig.gca()\n",
    "ax.set_aspect('equal')\n",
    "fig.set_size_inches([7, 4],forward=True)\n",
    "plt.savefig('figures/pca_plot_cividis.png', bbox_inches='tight')"
   ]
  },
  {
   "cell_type": "code",
   "execution_count": null,
   "id": "427f9a1f-2fd8-45ee-b00b-c956c59be3a8",
   "metadata": {},
   "outputs": [],
   "source": [
    "fig = plt.figure(figsize=(5, 5))\n",
    "\n",
    "plt.scatter(X_projected[:, 0], X_projected[:, 1], c=my_data['Rank'], cmap='RdYlGn')\n",
    "\n",
    "plt.xlabel(\"PC 1\")\n",
    "plt.ylabel(\"PC 2\")\n",
    "plt.colorbar(label='classement')\n",
    "\n",
    "ax = fig.gca()\n",
    "ax.set_aspect('equal')\n",
    "fig.set_size_inches([7, 4],forward=True)\n",
    "plt.savefig('figures/pca_plot_RdYlGn.png', bbox_inches='tight')"
   ]
  },
  {
   "cell_type": "code",
   "execution_count": null,
   "id": "edda3e91-1a77-4837-99f8-353e4de0521f",
   "metadata": {},
   "outputs": [],
   "source": []
  }
 ],
 "metadata": {
  "kernelspec": {
   "display_name": "Python 3 (ipykernel)",
   "language": "python",
   "name": "python3"
  },
  "language_info": {
   "codemirror_mode": {
    "name": "ipython",
    "version": 3
   },
   "file_extension": ".py",
   "mimetype": "text/x-python",
   "name": "python",
   "nbconvert_exporter": "python",
   "pygments_lexer": "ipython3",
   "version": "3.9.18"
  }
 },
 "nbformat": 4,
 "nbformat_minor": 5
}
